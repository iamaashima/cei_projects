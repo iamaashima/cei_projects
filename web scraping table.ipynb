{
 "cells": [
  {
   "cell_type": "code",
   "execution_count": 3,
   "id": "7a03186a-33a4-4a14-ac21-a32bc43f4054",
   "metadata": {},
   "outputs": [],
   "source": [
    "import requests\n",
    "import pandas\n",
    "import json\n",
    "from datetime import datetime,timedelta"
   ]
  },
  {
   "cell_type": "markdown",
   "id": "768bf0f8-22ba-4f2b-92ca-89aab96cee64",
   "metadata": {},
   "source": [
    "Definig the dates"
   ]
  },
  {
   "cell_type": "code",
   "execution_count": 4,
   "id": "106544ff-e100-4b60-bc13-6cc09ef5b5ae",
   "metadata": {},
   "outputs": [],
   "source": [
    "start_date=datetime(2024,5,1)\n",
    "end_date=datetime(2024,6,1)"
   ]
  },
  {
   "cell_type": "markdown",
   "id": "1c0bb6c2-4d79-4980-b822-eeab07242097",
   "metadata": {},
   "source": [
    "Set the base URLS and Headers for the request"
   ]
  },
  {
   "cell_type": "code",
   "execution_count": 13,
   "id": "67770d39-0451-4212-ae80-9126ba48fc08",
   "metadata": {},
   "outputs": [],
   "source": [
    "base_url = \"https://vegetablemarketprice.com/api/dataapi/market/delhi/daywisedata?date=\"\n",
    "headers = {\n",
    "    \"accept\": \"*/*\",\n",
    "    \"accept-language\": \"en-GB,en-US;q=0.9,en;q=0.8\",\n",
    "    \"sec-ch-ua\": \"\\\"Not/A)Brand\\\";v=\\\"8\\\", \\\"Chromium\\\";v=\\\"126\\\", \\\"Google Chrome\\\";v=\\\"126\\\"\",\n",
    "    \"sec-ch-ua-mobile\": \"?0\",\n",
    "    \"sec-ch-ua-platform\": \"\\\"Windows\\\"\",\n",
    "    \"sec-fetch-dest\": \"empty\",\n",
    "    \"sec-fetch-mode\": \"cors\",\n",
    "    \"sec-fetch-site\": \"same-origin\",\n",
    "    \"cookie\": \"JSESSIONID=B996C5FEEF5F71FAA879510F6CE9AFDC; _ga=GA1.1.535926437.1720420786; __gads=ID=7673b94fb107ab94:T=1720420985:RT=1720420985:S=ALNI_MZaMdMCI5z42qCo_9s6_iB2ypAYDQ; __gpi=UID=00000e86b68b21eb:T=1720420985:RT=1720420985:S=ALNI_MZfzGgSlxFImJ_lyzPSJj_A7ChXTA; __eoi=ID=8326e63330e6f562:T=1720420985:RT=1720420985:S=AA-AfjYcXGdhgxLcbO91Dln4iXv6; _ga_2RYZG7Y4NC=GS1.1.1720420786.1.1.1720420843.0.0.0; FCNEC=%5B%5B%22AKsRol9HaOJf02fJNprg3yCx_nxuucr1ZviVEst1uKkpGfGV0e-Ep06fngjTP8pPbM4Rl3TaZDRHvttV3pb1N92aNVqOV_ZGDAmWjA4iBlf9YkajjHt1wxvyrUbzlNI7hqQYbwK4OwszjCySNujnGYskYUZ2C4NpOw%3D%3D%22%5D%5D\",\n",
    "    \"Referer\": \"https://vegetablemarketprice.com/market/delhi/today\",\n",
    "    \"Referrer-Policy\": \"strict-origin-when-cross-origin\"\n",
    "}"
   ]
  },
  {
   "cell_type": "markdown",
   "id": "a0af90db-153c-4ed0-a333-6c66f526e3ce",
   "metadata": {},
   "source": [
    "Initialize the list to store the data"
   ]
  },
  {
   "cell_type": "code",
   "execution_count": 14,
   "id": "315a7e77-fce5-4db1-8021-749eb33faed8",
   "metadata": {},
   "outputs": [],
   "source": [
    "js_arr=[]"
   ]
  },
  {
   "cell_type": "markdown",
   "id": "64cb26c7-1ccb-467c-b8b9-7115bc417e60",
   "metadata": {},
   "source": [
    "Function to generate the dates between start_date and end_date"
   ]
  },
  {
   "cell_type": "code",
   "execution_count": 15,
   "id": "0894daac-e00e-4c56-a2f1-962b5bcdc8ed",
   "metadata": {},
   "outputs": [],
   "source": [
    "def daterange(start_date, end_date):\n",
    "    for n in range(int((end_date - start_date).days) + 1):\n",
    "        yield start_date + timedelta(n)"
   ]
  },
  {
   "cell_type": "markdown",
   "id": "2805ab36-4083-4546-a9f6-8c7ad85916bd",
   "metadata": {},
   "source": [
    "Loop through each data to extract info"
   ]
  },
  {
   "cell_type": "code",
   "execution_count": 16,
   "id": "779c1c92-4aec-4099-9d15-4775ecfdb370",
   "metadata": {},
   "outputs": [],
   "source": [
    "for single_date in daterange(start_date, end_date):\n",
    "    date = single_date.strftime(\"%Y-%m-%d\")\n",
    "    url = base_url + date\n",
    "\n",
    "    response = requests.get(url, headers=headers)\n",
    "    \n",
    "    if response.status_code == 200:\n",
    "        js_data = json.loads(response.text)\n",
    "        for api in js_data.get(\"data\", []):\n",
    "            veg_name = str(api[\"vegetablename\"])\n",
    "            wholesale_price = str(api[\"price\"])\n",
    "            retail_price = str(api[\"retailprice\"])\n",
    "            unit = str(api[\"units\"])\n",
    "            mall_price = str(api[\"shopingmallprice\"])\n",
    "            vegetable_image = api.get(\"image\", \"\")\n",
    "\n",
    "            new_js = {\n",
    "                \"Date\": date,\n",
    "                \"State Name\": \"New Delhi\",\n",
    "                \"Vegetable Name\": veg_name,\n",
    "                \"Wholesale Price\": wholesale_price,\n",
    "                \"Retail Price\": retail_price,\n",
    "                \"Shopping Mall Price\": mall_price,\n",
    "                \"Units\": unit,\n",
    "                \"Vegetable Image\": vegetable_image\n",
    "            }\n",
    "            js_arr.append(new_js)\n",
    "    else:\n",
    "        print(f\"Failed to retrieve data for {date}\")"
   ]
  },
  {
   "cell_type": "code",
   "execution_count": 17,
   "id": "061c417c-bc52-4dad-b089-b7305409e673",
   "metadata": {},
   "outputs": [
    {
     "name": "stdout",
     "output_type": "stream",
     "text": [
      "         Date State Name  ... Units Vegetable Image\n",
      "0  2024-05-01  New Delhi  ...   1kg                \n",
      "1  2024-05-01  New Delhi  ...   1kg                \n",
      "2  2024-05-01  New Delhi  ...   1kg                \n",
      "3  2024-05-01  New Delhi  ...   1kg                \n",
      "4  2024-05-01  New Delhi  ...   1kg                \n",
      "\n",
      "[5 rows x 8 columns]\n"
     ]
    }
   ],
   "source": [
    "df = pd.DataFrame(js_arr)\n",
    "print(df.head())"
   ]
  },
  {
   "cell_type": "code",
   "execution_count": 18,
   "id": "0df06d52-e34f-4628-8b1a-966d22a4de38",
   "metadata": {},
   "outputs": [
    {
     "data": {
      "text/html": [
       "<div>\n",
       "<style scoped>\n",
       "    .dataframe tbody tr th:only-of-type {\n",
       "        vertical-align: middle;\n",
       "    }\n",
       "\n",
       "    .dataframe tbody tr th {\n",
       "        vertical-align: top;\n",
       "    }\n",
       "\n",
       "    .dataframe thead th {\n",
       "        text-align: right;\n",
       "    }\n",
       "</style>\n",
       "<table border=\"1\" class=\"dataframe\">\n",
       "  <thead>\n",
       "    <tr style=\"text-align: right;\">\n",
       "      <th></th>\n",
       "      <th>Date</th>\n",
       "      <th>State Name</th>\n",
       "      <th>Vegetable Name</th>\n",
       "      <th>Wholesale Price</th>\n",
       "      <th>Retail Price</th>\n",
       "      <th>Shopping Mall Price</th>\n",
       "      <th>Units</th>\n",
       "      <th>Vegetable Image</th>\n",
       "    </tr>\n",
       "  </thead>\n",
       "  <tbody>\n",
       "    <tr>\n",
       "      <th>802</th>\n",
       "      <td>2024-05-15</td>\n",
       "      <td>New Delhi</td>\n",
       "      <td>Pumpkin</td>\n",
       "      <td>18</td>\n",
       "      <td>21 - 23</td>\n",
       "      <td>22 - 30</td>\n",
       "      <td>1kg</td>\n",
       "      <td></td>\n",
       "    </tr>\n",
       "    <tr>\n",
       "      <th>1432</th>\n",
       "      <td>2024-05-27</td>\n",
       "      <td>New Delhi</td>\n",
       "      <td>Dill Leaves</td>\n",
       "      <td>11</td>\n",
       "      <td>13 - 14</td>\n",
       "      <td>13 - 18</td>\n",
       "      <td>1kg</td>\n",
       "      <td></td>\n",
       "    </tr>\n",
       "    <tr>\n",
       "      <th>190</th>\n",
       "      <td>2024-05-04</td>\n",
       "      <td>New Delhi</td>\n",
       "      <td>Dill Leaves</td>\n",
       "      <td>13</td>\n",
       "      <td>15 - 17</td>\n",
       "      <td>16 - 21</td>\n",
       "      <td>1kg</td>\n",
       "      <td></td>\n",
       "    </tr>\n",
       "    <tr>\n",
       "      <th>41</th>\n",
       "      <td>2024-05-01</td>\n",
       "      <td>New Delhi</td>\n",
       "      <td>Mango Raw</td>\n",
       "      <td>26</td>\n",
       "      <td>30 - 33</td>\n",
       "      <td>31 - 43</td>\n",
       "      <td>1kg</td>\n",
       "      <td></td>\n",
       "    </tr>\n",
       "    <tr>\n",
       "      <th>43</th>\n",
       "      <td>2024-05-01</td>\n",
       "      <td>New Delhi</td>\n",
       "      <td>Mushroom</td>\n",
       "      <td>91</td>\n",
       "      <td>105 - 116</td>\n",
       "      <td>109 - 150</td>\n",
       "      <td>1kg</td>\n",
       "      <td></td>\n",
       "    </tr>\n",
       "    <tr>\n",
       "      <th>1651</th>\n",
       "      <td>2024-05-31</td>\n",
       "      <td>New Delhi</td>\n",
       "      <td>Brinjal (Big)</td>\n",
       "      <td>34</td>\n",
       "      <td>39 - 43</td>\n",
       "      <td>41 - 56</td>\n",
       "      <td>1kg</td>\n",
       "      <td></td>\n",
       "    </tr>\n",
       "    <tr>\n",
       "      <th>1397</th>\n",
       "      <td>2024-05-26</td>\n",
       "      <td>New Delhi</td>\n",
       "      <td>Radish</td>\n",
       "      <td>33</td>\n",
       "      <td>38 - 42</td>\n",
       "      <td>40 - 54</td>\n",
       "      <td>1kg</td>\n",
       "      <td></td>\n",
       "    </tr>\n",
       "    <tr>\n",
       "      <th>1487</th>\n",
       "      <td>2024-05-28</td>\n",
       "      <td>New Delhi</td>\n",
       "      <td>Drumsticks</td>\n",
       "      <td>40</td>\n",
       "      <td>46 - 51</td>\n",
       "      <td>48 - 66</td>\n",
       "      <td>1kg</td>\n",
       "      <td></td>\n",
       "    </tr>\n",
       "    <tr>\n",
       "      <th>1648</th>\n",
       "      <td>2024-05-31</td>\n",
       "      <td>New Delhi</td>\n",
       "      <td>Dill Leaves</td>\n",
       "      <td>11</td>\n",
       "      <td>13 - 14</td>\n",
       "      <td>13 - 18</td>\n",
       "      <td>1kg</td>\n",
       "      <td></td>\n",
       "    </tr>\n",
       "    <tr>\n",
       "      <th>811</th>\n",
       "      <td>2024-05-16</td>\n",
       "      <td>New Delhi</td>\n",
       "      <td>Onion Small</td>\n",
       "      <td>38</td>\n",
       "      <td>44 - 48</td>\n",
       "      <td>46 - 63</td>\n",
       "      <td>1kg</td>\n",
       "      <td></td>\n",
       "    </tr>\n",
       "  </tbody>\n",
       "</table>\n",
       "</div>"
      ],
      "text/plain": [
       "            Date State Name  ... Units Vegetable Image\n",
       "802   2024-05-15  New Delhi  ...   1kg                \n",
       "1432  2024-05-27  New Delhi  ...   1kg                \n",
       "190   2024-05-04  New Delhi  ...   1kg                \n",
       "41    2024-05-01  New Delhi  ...   1kg                \n",
       "43    2024-05-01  New Delhi  ...   1kg                \n",
       "1651  2024-05-31  New Delhi  ...   1kg                \n",
       "1397  2024-05-26  New Delhi  ...   1kg                \n",
       "1487  2024-05-28  New Delhi  ...   1kg                \n",
       "1648  2024-05-31  New Delhi  ...   1kg                \n",
       "811   2024-05-16  New Delhi  ...   1kg                \n",
       "\n",
       "[10 rows x 8 columns]"
      ]
     },
     "execution_count": 18,
     "metadata": {},
     "output_type": "execute_result"
    }
   ],
   "source": [
    "df.sample(10)"
   ]
  },
  {
   "cell_type": "code",
   "execution_count": 19,
   "id": "d5c4530d-d364-489a-999b-f39493ae3286",
   "metadata": {},
   "outputs": [
    {
     "name": "stdout",
     "output_type": "stream",
     "text": [
      "Data saved to vegetable_prices_new_delhi.csv\n"
     ]
    }
   ],
   "source": [
    "output_csv_path = 'vegetable_prices_new_delhi.csv'\n",
    "df.to_csv(output_csv_path, index=False)\n",
    "\n",
    "print(f\"Data saved to {output_csv_path}\")"
   ]
  },
  {
   "cell_type": "code",
   "execution_count": null,
   "id": "28682336-faa6-4d9c-9bd5-293893d70a49",
   "metadata": {},
   "outputs": [],
   "source": []
  }
 ],
 "metadata": {
  "kernelspec": {
   "display_name": "Python 3 (ipykernel)",
   "language": "python",
   "name": "python3"
  },
  "language_info": {
   "codemirror_mode": {
    "name": "ipython",
    "version": 3
   },
   "file_extension": ".py",
   "mimetype": "text/x-python",
   "name": "python",
   "nbconvert_exporter": "python",
   "pygments_lexer": "ipython3",
   "version": "3.11.7"
  }
 },
 "nbformat": 4,
 "nbformat_minor": 5
}
